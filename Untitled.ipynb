{
 "cells": [
  {
   "cell_type": "code",
   "execution_count": 4,
   "id": "0546c153",
   "metadata": {},
   "outputs": [
    {
     "name": "stdout",
     "output_type": "stream",
     "text": [
      "{'a': 1, 'b': 2, 'c': 3}\n"
     ]
    }
   ],
   "source": [
    "#Answer 9\n",
    "\n",
    "key = ['a','b','c']\n",
    "temp2 = [1, 2, 3]\n",
    "\n",
    "dict1 = dict(zip(key , temp2))\n",
    "print(dict1)"
   ]
  },
  {
   "cell_type": "code",
   "execution_count": 19,
   "id": "5b158ee9",
   "metadata": {},
   "outputs": [
    {
     "name": "stdout",
     "output_type": "stream",
     "text": [
      "{'a', '1', '3', '2', 'b', 'c'}\n",
      "{'a'}\n"
     ]
    }
   ],
   "source": [
    "#Answer 10\n",
    "\n",
    "set1 = {'a','b','c'}\n",
    "set2 = {'a','1','2','3'}\n",
    "\n",
    "print(set1.union(set2))\n",
    "print(set1.intersection(set2))"
   ]
  },
  {
   "cell_type": "code",
   "execution_count": 35,
   "id": "8b44e482",
   "metadata": {},
   "outputs": [
    {
     "name": "stdout",
     "output_type": "stream",
     "text": [
      "[('x', (1, 3, 5)), ('y', (2, 4, 6))]\n"
     ]
    }
   ],
   "source": [
    "#Answer 11\n",
    "\n",
    "dict1 = {'a': {'x':1, 'y':2}, 'b': {'x':3, 'y':4}, 'c':{'x':5, 'y':6}}\n",
    "tuple1 = ()\n",
    "tuple1 = [(m, tuple(n[m] for n in dict1.values())) for m  in dict1['a']]\n",
    "print(tuple1)"
   ]
  },
  {
   "cell_type": "code",
   "execution_count": 68,
   "id": "e434ce0f",
   "metadata": {},
   "outputs": [
    {
     "name": "stdout",
     "output_type": "stream",
     "text": [
      "[0, 2, 4, 6, 8, 10, 12, 14, 16, 18, 20, 22, 24, 26, 28, 30, 32, 34, 36, 38, 40, 42, 44, 46, 48, 50, 52, 54, 56, 58, 60, 62, 64, 66, 68, 70, 72, 74, 76, 78, 80, 82, 84, 86, 88, 90, 92, 94, 96, 98]\n",
      "\n",
      "Length is :  50 \n",
      "\n",
      "\n",
      " [98, 96, 94, 92, 90, 88, 86, 84, 82, 80, 78, 76, 74, 72, 70, 68, 66, 64, 62, 60, 58, 56, 54, 52, 50, 48, 46, 44, 42, 40, 38, 36, 34, 32, 30, 28, 26, 24, 22, 20, 18, 16, 14, 12, 10, 8, 6, 4, 2, 0]\n",
      "\n",
      "Ascending :  [0, 2, 4, 6, 8, 10, 12, 14, 16, 18, 20, 22, 24, 26, 28, 30, 32, 34, 36, 38, 40, 42, 44, 46, 48, 50, 52, 54, 56, 58, 60, 62, 64, 66, 68, 70, 72, 74, 76, 78, 80, 82, 84, 86, 88, 90, 92, 94, 96, 98]\n",
      "\n",
      "Descending :  [98, 96, 94, 92, 90, 88, 86, 84, 82, 80, 78, 76, 74, 72, 70, 68, 66, 64, 62, 60, 58, 56, 54, 52, 50, 48, 46, 44, 42, 40, 38, 36, 34, 32, 30, 28, 26, 24, 22, 20, 18, 16, 14, 12, 10, 8, 6, 4, 2, 0]\n",
      "\n",
      "Index of 44 :  27\n",
      "\n",
      "List After Updating :  [98, 96, 94, 92, 90, 88, 86, 84, 82, 80, 78, 76, 74, 72, 70, 68, 66, 64, 62, 60, 58, 56, 54, 52, 50, 48, 46, 100, 42, 40, 38, 36, 34, 32, 30, 28, 26, 24, 22, 20, 18, 16, 14, 12, 10, 8, 6, 4, 2, 0]\n",
      "\n",
      " Square of list 1 :  [9604, 9216, 8836, 8464, 8100, 7744, 7396, 7056, 6724, 6400, 6084, 5776, 5476, 5184, 4900, 4624, 4356, 4096, 3844, 3600, 3364, 3136, 2916, 2704, 2500, 2304, 2116, 10000, 1764, 1600, 1444, 1296, 1156, 1024, 900, 784, 676, 576, 484, 400, 324, 256, 196, 144, 100, 64, 36, 16, 4, 0]\n"
     ]
    }
   ],
   "source": [
    "#Answer 12\n",
    "\n",
    "lst=[]\n",
    "lst1=[]\n",
    "for i in range(0,100,2):\n",
    "    lst.append(i)\n",
    "print(lst)\n",
    "\n",
    "print(\"\\nLength is : \",len(lst), \"\\n\")\n",
    "\n",
    "lst.sort(reverse=True)\n",
    "print(\"\\n\",lst)\n",
    "\n",
    "lst.sort()\n",
    "print(\"\\nAscending : \",lst)\n",
    "\n",
    "lst.sort(reverse=True)\n",
    "print(\"\\nDescending : \",lst)\n",
    "\n",
    "n1=lst.index(44)\n",
    "print('\\nIndex of 44 : ',n1)\n",
    "\n",
    "lst[n1]=100\n",
    "print(\"\\nList After Updating : \",lst)\n",
    "\n",
    "for i in lst:\n",
    "    lst1.append(i**2)\n",
    "print(\"\\n Square of list 1 : \",lst1)"
   ]
  },
  {
   "cell_type": "code",
   "execution_count": 74,
   "id": "617268e8",
   "metadata": {},
   "outputs": [
    {
     "name": "stdout",
     "output_type": "stream",
     "text": [
      "[('a', {'x': 1, 'y': 2}), ('b', {'x': 3, 'y': 4}), ('c', {'x': 5, 'y': 6})]\n",
      "\n",
      " ['a', 'b', 'c']\n",
      "\n",
      " {'b': {'x': 3, 'y': 4}}\n"
     ]
    }
   ],
   "source": [
    "#Answer 13\n",
    "\n",
    "dict1 = {'a': {'x':1, 'y':2}, 'b': {'x':3, 'y':4}, 'c':{'x':5, 'y':6}}\n",
    "print(list(dict1.items()))\n",
    "\n",
    "dict2 = list(dict1.keys())\n",
    "print(\"\\n\",dict2)\n",
    "\n",
    "dict1.pop(dict2[0])\n",
    "dict1.pop(dict2[-1])\n",
    "print(\"\\n\",dict1)"
   ]
  },
  {
   "cell_type": "code",
   "execution_count": 91,
   "id": "05c84736",
   "metadata": {},
   "outputs": [
    {
     "name": "stdout",
     "output_type": "stream",
     "text": [
      "gram \n",
      "\n",
      "World \n",
      "\n",
      "PYTHON PROGRAMMING LANGUAGE \n",
      "\n",
      "BEST IN THE WORLD \n",
      "\n",
      "Python Programming Language Best in the World\n"
     ]
    }
   ],
   "source": [
    "#Answer 14\n",
    "\n",
    "A = 'Python Programming Language'\n",
    "B = 'Best in the World'\n",
    "\n",
    "print(A[10:14],'\\n')\n",
    "print(B[12:],'\\n')\n",
    "print(A.upper(),'\\n')\n",
    "print(B.upper(),'\\n')\n",
    "\n",
    "print(A + \" \" + B)"
   ]
  },
  {
   "cell_type": "code",
   "execution_count": 106,
   "id": "eb054b1b",
   "metadata": {},
   "outputs": [
    {
     "name": "stdout",
     "output_type": "stream",
     "text": [
      "Enter Value for N : 10\n",
      "Enter value : 1\n",
      "Enter value : 2\n",
      "Enter value : 3\n",
      "Enter value : 4\n",
      "Enter value : 5\n",
      "Enter value : 6\n",
      "Enter value : 7\n",
      "Enter value : 8\n",
      "Enter value : 9\n",
      "Enter value : 10\n",
      "[1, 2, 3, 4, 5, 6, 7, 8, 9, 10]\n",
      "[5, 6, 7, 8]\n"
     ]
    }
   ],
   "source": [
    "#Answer 15\n",
    "\n",
    "lst = []\n",
    "x = int(input(\"Enter Value for N : \"))\n",
    "\n",
    "for i in range(x):\n",
    "    y = int(input(\"Enter value : \"))\n",
    "    lst.append(y)\n",
    "print(lst)\n",
    "\n",
    "print(lst[(5-x):-2])"
   ]
  },
  {
   "cell_type": "code",
   "execution_count": 109,
   "id": "6c19afe6",
   "metadata": {},
   "outputs": [
    {
     "name": "stdout",
     "output_type": "stream",
     "text": [
      "[5, 10, 15, 20, 25, 30, 35, 40, 45, 50, 55, 60, 65, 70, 75, 80, 85, 90, 95] \n",
      " 19\n"
     ]
    }
   ],
   "source": [
    "#Answer 16\n",
    "\n",
    "lst=[]\n",
    "for i in range(5, 100, 5):\n",
    "    lst.append(i)\n",
    "print(lst,\"\\n\",len(lst))"
   ]
  },
  {
   "cell_type": "code",
   "execution_count": null,
   "id": "51ee0f61",
   "metadata": {},
   "outputs": [],
   "source": []
  }
 ],
 "metadata": {
  "kernelspec": {
   "display_name": "Python 3 (ipykernel)",
   "language": "python",
   "name": "python3"
  },
  "language_info": {
   "codemirror_mode": {
    "name": "ipython",
    "version": 3
   },
   "file_extension": ".py",
   "mimetype": "text/x-python",
   "name": "python",
   "nbconvert_exporter": "python",
   "pygments_lexer": "ipython3",
   "version": "3.9.12"
  }
 },
 "nbformat": 4,
 "nbformat_minor": 5
}
