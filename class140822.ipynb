{
 "cells": [
  {
   "cell_type": "code",
   "execution_count": 1,
   "id": "c493d2d3",
   "metadata": {},
   "outputs": [],
   "source": [
    "from Module import *"
   ]
  },
  {
   "cell_type": "code",
   "execution_count": 2,
   "id": "c3c99bf1",
   "metadata": {},
   "outputs": [
    {
     "data": {
      "text/plain": [
       "15"
      ]
     },
     "execution_count": 2,
     "metadata": {},
     "output_type": "execute_result"
    }
   ],
   "source": [
    "addition(10,5)"
   ]
  },
  {
   "cell_type": "code",
   "execution_count": 23,
   "id": "e7a341f3",
   "metadata": {},
   "outputs": [
    {
     "name": "stdout",
     "output_type": "stream",
     "text": [
      "Enter how many numbers you want to check : 5\n",
      "Enter : 3\n",
      "Enter : 6\n",
      "Enter : 9\n",
      "Enter : 10\n",
      "Enter : 8\n",
      "10\n"
     ]
    }
   ],
   "source": [
    "x = int(input(\"Enter how many numbers you want to check : \"))\n",
    "inp=[]\n",
    "for i in range(x):\n",
    "    numb=int(input(\"Enter : \"))\n",
    "    inp.append(numb)\n",
    "    \n",
    "print(max(inp))\n",
    "    "
   ]
  },
  {
   "cell_type": "code",
   "execution_count": 32,
   "id": "e3b937fc",
   "metadata": {},
   "outputs": [
    {
     "name": "stdout",
     "output_type": "stream",
     "text": [
      "Enter number you want to check : 1\n"
     ]
    },
    {
     "ename": "SyntaxError",
     "evalue": "'break' outside loop (2012938429.py, line 4)",
     "output_type": "error",
     "traceback": [
      "\u001b[1;36m  Input \u001b[1;32mIn [32]\u001b[1;36m\u001b[0m\n\u001b[1;33m    break\u001b[0m\n\u001b[1;37m    ^\u001b[0m\n\u001b[1;31mSyntaxError\u001b[0m\u001b[1;31m:\u001b[0m 'break' outside loop\n"
     ]
    }
   ],
   "source": [
    "x = int(input(\"Enter number you want to check : \"))\n",
    "if(x==1 or x==2):\n",
    "    print(\"Prime Number\")\n",
    "    break\n",
    "else:\n",
    "    for i in range(2,x):\n",
    "        if(x%i==0):\n",
    "            print(\"Not a prime Number\")\n",
    "            break\n",
    "        else:\n",
    "            cnt=1\n",
    "    if(cnt==1):\n",
    "        print(\"Prime Number\")"
   ]
  },
  {
   "cell_type": "code",
   "execution_count": 49,
   "id": "da4ad4a7",
   "metadata": {},
   "outputs": [
    {
     "name": "stdout",
     "output_type": "stream",
     "text": [
      "Enter the last number : 20\n",
      "0\n",
      "1\n",
      "1\n",
      "2\n",
      "3\n",
      "5\n",
      "8\n",
      "13\n",
      "21\n"
     ]
    }
   ],
   "source": [
    "x = int(input(\"Enter the last number : \"))\n",
    "a=0\n",
    "b=1\n",
    "print(a)\n",
    "print(b)\n",
    "\n",
    "while(b<=x):\n",
    "    c=a+b\n",
    "    a = b\n",
    "    b = c\n",
    "    print(c)\n",
    "\n",
    "#print(\"Wrong Input\")\n"
   ]
  },
  {
   "cell_type": "code",
   "execution_count": null,
   "id": "eadb0acc",
   "metadata": {},
   "outputs": [],
   "source": []
  }
 ],
 "metadata": {
  "kernelspec": {
   "display_name": "Python 3 (ipykernel)",
   "language": "python",
   "name": "python3"
  },
  "language_info": {
   "codemirror_mode": {
    "name": "ipython",
    "version": 3
   },
   "file_extension": ".py",
   "mimetype": "text/x-python",
   "name": "python",
   "nbconvert_exporter": "python",
   "pygments_lexer": "ipython3",
   "version": "3.9.12"
  }
 },
 "nbformat": 4,
 "nbformat_minor": 5
}
